{
  "cells": [
    {
      "metadata": {
        "trusted": true
      },
      "cell_type": "markdown",
      "source": "# 小テスト課題\n\nファイル中には\n\nname,record\n\nという形式で、成績表が入っている。\n読んだ内容を、nameをキーに、recordを値として辞書型として保存する関数file2Dic()を完成させなさい。\nまた、結果を確認しなさい。"
    },
    {
      "metadata": {
        "trusted": true
      },
      "cell_type": "code",
      "source": "def file2Dic(filename):\n    dic={}\n    with open(filename) as f:\n        for i,line in enumerate(f):\n            if line == '\\n':\n                continue\n            #改行を取り除く\n\n            #カンマで区切る->name,record\n\n            #recordを整数に変換する\n\n            #dicに登録する\n\n    return dic",
      "execution_count": 5,
      "outputs": []
    },
    {
      "metadata": {
        "trusted": true
      },
      "cell_type": "code",
      "source": "filename='data2.txt'\nresult = file2Dic(filename)\nprint(result)",
      "execution_count": 6,
      "outputs": [
        {
          "output_type": "stream",
          "text": "{}\n",
          "name": "stdout"
        }
      ]
    }
  ],
  "metadata": {
    "kernelspec": {
      "name": "python36",
      "display_name": "Python 3.6",
      "language": "python"
    },
    "language_info": {
      "mimetype": "text/x-python",
      "nbconvert_exporter": "python",
      "name": "python",
      "pygments_lexer": "ipython3",
      "version": "3.6.6",
      "file_extension": ".py",
      "codemirror_mode": {
        "version": 3,
        "name": "ipython"
      }
    }
  },
  "nbformat": 4,
  "nbformat_minor": 2
}