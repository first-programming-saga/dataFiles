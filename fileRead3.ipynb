{
  "cells": [
    {
      "metadata": {},
      "cell_type": "markdown",
      "source": "各行に一つの数値が書かれているテキストファイルを読み、データ数と総和を返す(別の方法)"
    },
    {
      "metadata": {
        "trusted": true
      },
      "cell_type": "code",
      "source": "def sumData(filename):\n    sum = 0\n    count = 0\n    with open(filename) as f:#ファイルを開く\n        for i,line in enumerate(f):\n            if line == '\\n':\n                continue\n            aline= line.rstrip('\\n')\n            v = int(aline)\n            sum += v\n            count += 1\n    return sum,count",
      "execution_count": 3,
      "outputs": []
    },
    {
      "metadata": {
        "trusted": true
      },
      "cell_type": "code",
      "source": "filename='data1.txt'\na,c = sumData(filename)\nv = a/c\nprint(f'データ数 {c}')\nprint(f'総和 {a}')\nprint(f'平均 {v}')",
      "execution_count": 4,
      "outputs": [
        {
          "output_type": "stream",
          "text": "データ数 10\n総和 790\n平均 79.0\n",
          "name": "stdout"
        }
      ]
    }
  ],
  "metadata": {
    "kernelspec": {
      "name": "python36",
      "display_name": "Python 3.6",
      "language": "python"
    },
    "language_info": {
      "mimetype": "text/x-python",
      "nbconvert_exporter": "python",
      "name": "python",
      "pygments_lexer": "ipython3",
      "version": "3.6.6",
      "file_extension": ".py",
      "codemirror_mode": {
        "version": 3,
        "name": "ipython"
      }
    }
  },
  "nbformat": 4,
  "nbformat_minor": 2
}