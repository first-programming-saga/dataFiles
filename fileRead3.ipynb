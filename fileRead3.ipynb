{
  "cells": [
    {
      "metadata": {
        "collapsed": true
      },
      "cell_type": "markdown",
      "source": "# ファイルの利用\n\n各行に一つの数値が書かれているテキストファイルを読み、データ数と総和を返す\n\nファイルオブジェクトfは、iteratorであるため、enumerate()を用いて一行毎に取り出す\n"
    },
    {
      "metadata": {
        "trusted": true
      },
      "cell_type": "code",
      "source": "def sumDataFromFile(filename):\n    sum = 0\n    count = 0\n    with open(filename) as f:#ファイルを開く\n        for i,line in enumerate(f):\n            if line == '\\n':#空の行を読み飛ばす\n                continue\n            aline = line.rstrip()\n            value = int(aline)\n            sum += value\n            count += 1\n    return sum,count",
      "execution_count": null,
      "outputs": []
    },
    {
      "metadata": {
        "trusted": true
      },
      "cell_type": "code",
      "source": "filename='data1.txt'\nsumOfData, numData = sumDataFromFile(filename)\naverage = sumOfData/numData\nprint(f'データ数 {numData}')\nprint(f'総和 {sumOfData}')\nprint(f'平均 {average}')",
      "execution_count": null,
      "outputs": []
    }
  ],
  "metadata": {
    "kernelspec": {
      "name": "python36",
      "display_name": "Python 3.6",
      "language": "python"
    },
    "language_info": {
      "mimetype": "text/x-python",
      "nbconvert_exporter": "python",
      "name": "python",
      "pygments_lexer": "ipython3",
      "version": "3.6.6",
      "file_extension": ".py",
      "codemirror_mode": {
        "version": 3,
        "name": "ipython"
      }
    }
  },
  "nbformat": 4,
  "nbformat_minor": 2
}