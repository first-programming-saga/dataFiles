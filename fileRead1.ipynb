{
  "cells": [
    {
      "metadata": {},
      "cell_type": "markdown",
      "source": "# ファイルの利用\n各行に一つの数値が書かれているテキストファイルを読み、数値データをリストとして返す\n\nrstrip()は、文字列の右側から文字を取り除く。\n引数に何も指定しない場合には、「空白」（スペース、タブ、改行）をすべて取り除く。\n\"r\"は、右(right)を意味している。\n"
    },
    {
      "metadata": {
        "trusted": true
      },
      "cell_type": "code",
      "source": "def readFileByLine(filename):\n    data=[]\n    with open(filename) as f:#ファイルを開く\n        while True:\n            line = f.readline()#一行読む\n            aline = line.rstrip()#改行を含め、余分な空白を取り除く\n            if aline:\n                value = int(aline)#整数へ変換\n                data.append(value)\n            else:\n                break\n    return data",
      "execution_count": null,
      "outputs": []
    },
    {
      "metadata": {
        "trusted": true
      },
      "cell_type": "code",
      "source": "filename='data1.txt'\ndataList = readFileByLine(filename)\nprint(dataList)",
      "execution_count": null,
      "outputs": []
    },
    {
      "metadata": {
        "trusted": true
      },
      "cell_type": "code",
      "source": "",
      "execution_count": null,
      "outputs": []
    }
  ],
  "metadata": {
    "kernelspec": {
      "name": "python36",
      "display_name": "Python 3.6",
      "language": "python"
    },
    "language_info": {
      "mimetype": "text/x-python",
      "nbconvert_exporter": "python",
      "name": "python",
      "pygments_lexer": "ipython3",
      "version": "3.6.6",
      "file_extension": ".py",
      "codemirror_mode": {
        "version": 3,
        "name": "ipython"
      }
    }
  },
  "nbformat": 4,
  "nbformat_minor": 2
}