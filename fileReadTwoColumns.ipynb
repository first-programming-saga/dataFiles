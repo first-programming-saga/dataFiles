{
  "cells": [
    {
      "metadata": {},
      "cell_type": "markdown",
      "source": "ファイル中には\n\n'name',record\n\nという形式で、成績表が入っている。ここから、データ数、平均、そして最高得点をファイルに書きだす。"
    },
    {
      "metadata": {
        "trusted": true
      },
      "cell_type": "code",
      "source": "def sumData(filename):\n    sum = 0\n    count = 0\n    topname=''\n    topv=0\n    with open(filename) as f:#ファイルを開く\n        for i,line in enumerate(f):\n            if line == '\\n':\n                continue\n            aline = line.strip('\\n')\n            name,vv=aline.split(',')#カンマで分割\n            v = int(vv)\n            sum += v\n            count += 1\n            if v >= topv:\n                topname=name\n                topv=v\n    return sum,count,(topname,topv)",
      "execution_count": 4,
      "outputs": []
    },
    {
      "metadata": {
        "trusted": true
      },
      "cell_type": "code",
      "source": "def outRecord(filename,sum,count,top):#結果をファイルへ出力\n    with open(filename,'w') as f:\n        v = sum/count\n        f.write(f'データ数{c} 平均{v}\\n')\n        f.write(f'Top record {top[1]} by {top[0]}')",
      "execution_count": 5,
      "outputs": []
    },
    {
      "metadata": {
        "trusted": true
      },
      "cell_type": "code",
      "source": "filename='data2.txt'\na,c,top = sumData(filename)\nfilenameOut='data2-out.txt'\noutRecord(filenameOut,a,c,top)\nprint('completed')",
      "execution_count": 6,
      "outputs": [
        {
          "output_type": "stream",
          "text": "completed\n",
          "name": "stdout"
        }
      ]
    },
    {
      "metadata": {
        "trusted": true
      },
      "cell_type": "code",
      "source": "",
      "execution_count": null,
      "outputs": []
    }
  ],
  "metadata": {
    "kernelspec": {
      "name": "python36",
      "display_name": "Python 3.6",
      "language": "python"
    },
    "language_info": {
      "mimetype": "text/x-python",
      "nbconvert_exporter": "python",
      "name": "python",
      "pygments_lexer": "ipython3",
      "version": "3.6.6",
      "file_extension": ".py",
      "codemirror_mode": {
        "version": 3,
        "name": "ipython"
      }
    }
  },
  "nbformat": 4,
  "nbformat_minor": 2
}