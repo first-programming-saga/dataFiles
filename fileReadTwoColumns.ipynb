{
  "cells": [
    {
      "metadata": {},
      "cell_type": "markdown",
      "source": "# ファイルの利用\nファイル中には\n\nname,record\n\nという形式で、成績表が入っている。ここから、データ数、平均、そして最高得点をファイルに書きだす。\n\n- split()は、引数で指定した文字で、文字列を分割する。戻り値はタプルとなる。\n"
    },
    {
      "metadata": {
        "trusted": true
      },
      "cell_type": "code",
      "source": "def sumData(filename):\n    sum = 0\n    count = 0\n    topname=''\n    topv=0\n    with open(filename) as f:#ファイルを開く\n        for i,line in enumerate(f):\n            if line == '\\n':\n                continue\n            aline = line.rstrip()\n            name,vString=aline.split(',')#カンマで分割\n            value = int(vString)\n            sum += value\n            count += 1\n            if value >= topv:\n                topname=name\n                topv=value\n    return sum,count,(topname,topv)",
      "execution_count": 4,
      "outputs": []
    },
    {
      "metadata": {
        "trusted": true
      },
      "cell_type": "code",
      "source": "def outputRecord(filename,sumOfData,count,top):#結果をファイルへ出力\n    with open(filename,'w') as f:#書き込み用にファイルを開ける\n        average = sumOfData/count\n        f.write(f'データ数{count} 平均{average}\\n')\n        topName,topRecord=top\n        f.write(f'Top record {topRecord} by {topName}\\n')",
      "execution_count": 5,
      "outputs": []
    },
    {
      "metadata": {
        "trusted": true
      },
      "cell_type": "code",
      "source": "filename='data2.txt'\nsumOfData,numData,top = sumData(filename)\nfilenameOutput='data2-out.txt'\noutputRecord(filenameOutput,sumOfData,numData,top)\nprint('completed')",
      "execution_count": 6,
      "outputs": [
        {
          "output_type": "stream",
          "text": "completed\n",
          "name": "stdout"
        }
      ]
    },
    {
      "metadata": {
        "trusted": true
      },
      "cell_type": "code",
      "source": "",
      "execution_count": null,
      "outputs": []
    }
  ],
  "metadata": {
    "kernelspec": {
      "name": "python36",
      "display_name": "Python 3.6",
      "language": "python"
    },
    "language_info": {
      "mimetype": "text/x-python",
      "nbconvert_exporter": "python",
      "name": "python",
      "pygments_lexer": "ipython3",
      "version": "3.6.6",
      "file_extension": ".py",
      "codemirror_mode": {
        "version": 3,
        "name": "ipython"
      }
    }
  },
  "nbformat": 4,
  "nbformat_minor": 2
}