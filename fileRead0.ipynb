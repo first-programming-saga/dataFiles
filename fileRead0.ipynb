{
  "cells": [
    {
      "metadata": {
        "collapsed": true
      },
      "cell_type": "markdown",
      "source": "# ファイルを読む\n\nファイルをopenし、テキストとして全体を読み込む例\n- open(ファイル名)でファイルを開く。戻り値はfile object\n- file objectのread()メソッドでテキストファイルの全体を読み込む"
    },
    {
      "metadata": {
        "trusted": true
      },
      "cell_type": "code",
      "source": "def readTextFile(filename):#ファイルからテキストを読み、そのテキストを返す\n    with open(filename) as f:\n        text = f.read()\n    return text",
      "execution_count": null,
      "outputs": []
    },
    {
      "metadata": {
        "trusted": true
      },
      "cell_type": "code",
      "source": "filename='data1.txt'\ntext = readTextFile(filename)\nprint(text)\n",
      "execution_count": null,
      "outputs": []
    },
    {
      "metadata": {
        "trusted": true
      },
      "cell_type": "code",
      "source": "",
      "execution_count": null,
      "outputs": []
    }
  ],
  "metadata": {
    "kernelspec": {
      "name": "python36",
      "display_name": "Python 3.6",
      "language": "python"
    },
    "language_info": {
      "mimetype": "text/x-python",
      "nbconvert_exporter": "python",
      "name": "python",
      "pygments_lexer": "ipython3",
      "version": "3.6.6",
      "file_extension": ".py",
      "codemirror_mode": {
        "version": 3,
        "name": "ipython"
      }
    }
  },
  "nbformat": 4,
  "nbformat_minor": 2
}